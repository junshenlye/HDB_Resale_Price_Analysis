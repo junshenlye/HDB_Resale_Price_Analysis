{
  "cells": [
    {
      "cell_type": "markdown",
      "metadata": {
        "id": "view-in-github",
        "colab_type": "text"
      },
      "source": [
        "<a href=\"https://colab.research.google.com/github/junshenlye/HDB_Resale_Price_Analysis/blob/main/EGD351_D2_HDB_Resale_Price_Data_Prep.ipynb\" target=\"_parent\"><img src=\"https://colab.research.google.com/assets/colab-badge.svg\" alt=\"Open In Colab\"/></a>"
      ]
    },
    {
      "cell_type": "code",
      "execution_count": null,
      "metadata": {
        "id": "RTj42unGleft"
      },
      "outputs": [],
      "source": [
        "import pandas as pd\n",
        "import numpy as np\n",
        "import matplotlib.pyplot as plt\n",
        "import seaborn as sns\n",
        "from datetime import datetime as dt"
      ]
    },
    {
      "cell_type": "code",
      "execution_count": null,
      "metadata": {
        "id": "lyoDgUmwvmV4",
        "colab": {
          "base_uri": "https://localhost:8080/"
        },
        "outputId": "933443c0-d671-4a40-cf3a-1c119b2aab5f"
      },
      "outputs": [
        {
          "output_type": "stream",
          "name": "stdout",
          "text": [
            "Drive already mounted at /content/drive; to attempt to forcibly remount, call drive.mount(\"/content/drive\", force_remount=True).\n"
          ]
        }
      ],
      "source": [
        "from google.colab import drive\n",
        "drive.mount('/content/drive')"
      ]
    },
    {
      "cell_type": "code",
      "execution_count": null,
      "metadata": {
        "id": "Y5LINuR5ux0L"
      },
      "outputs": [],
      "source": [
        "price1999 = pd.read_csv('/content/drive/MyDrive/EGD351(Project Folder)/Cleaned Datasets/Clean1990-1999.csv')\n",
        "price2012 = pd.read_csv('/content/drive/MyDrive/EGD351(Project Folder)/Cleaned Datasets/clean2000-2012.csv')\n",
        "price2014 = pd.read_csv('/content/drive/MyDrive/EGD351(Project Folder)/Cleaned Datasets/clean2012-2014.csv')\n",
        "price2016 = pd.read_csv('/content/drive/MyDrive/EGD351(Project Folder)/Cleaned Datasets/cleaned 2015-2016.csv')\n",
        "price2017 = pd.read_csv('/content/drive/MyDrive/EGD351(Project Folder)/Cleaned Datasets/clean 2017 .csv')\n",
        "cpi = pd.read_csv('/content/drive/MyDrive/EGD351(Project Folder)/Cleaned Datasets/clean cpi data.csv')"
      ]
    },
    {
      "cell_type": "code",
      "execution_count": null,
      "metadata": {
        "id": "eaEMpSn-vfyf",
        "colab": {
          "base_uri": "https://localhost:8080/",
          "height": 536
        },
        "outputId": "1dbf3ae7-27a4-44a7-b80e-50f678b317d4"
      },
      "outputs": [
        {
          "output_type": "stream",
          "name": "stdout",
          "text": [
            "<class 'pandas.core.frame.DataFrame'>\n",
            "RangeIndex: 887082 entries, 0 to 887081\n",
            "Data columns (total 12 columns):\n",
            " #   Column               Non-Null Count   Dtype         \n",
            "---  ------               --------------   -----         \n",
            " 0   month                887082 non-null  datetime64[ns]\n",
            " 1   town                 887082 non-null  object        \n",
            " 2   flat_type            887082 non-null  object        \n",
            " 3   block                887082 non-null  object        \n",
            " 4   street_name          887082 non-null  object        \n",
            " 5   storey_range         887082 non-null  object        \n",
            " 6   floor_area_sqm       887082 non-null  float64       \n",
            " 7   flat_model           887082 non-null  object        \n",
            " 8   lease_commence_date  887082 non-null  int64         \n",
            " 9   remaining_lease      887082 non-null  int64         \n",
            " 10  resale_price         887082 non-null  float64       \n",
            " 11  sale_year            704520 non-null  float64       \n",
            "dtypes: datetime64[ns](1), float64(3), int64(2), object(6)\n",
            "memory usage: 81.2+ MB\n"
          ]
        },
        {
          "output_type": "execute_result",
          "data": {
            "text/plain": [
              "       month        town flat_type block       street_name storey_range  \\\n",
              "0 1990-01-01  ANG MO KIO    1 ROOM   309  ANG MO KIO AVE 1     10 TO 12   \n",
              "1 1990-01-01  ANG MO KIO    1 ROOM   309  ANG MO KIO AVE 1     04 TO 06   \n",
              "2 1990-01-01  ANG MO KIO    1 ROOM   309  ANG MO KIO AVE 1     10 TO 12   \n",
              "3 1990-01-01  ANG MO KIO    1 ROOM   309  ANG MO KIO AVE 1     07 TO 09   \n",
              "4 1990-01-01  ANG MO KIO    3 ROOM   216  ANG MO KIO AVE 1     04 TO 06   \n",
              "\n",
              "   floor_area_sqm      flat_model  lease_commence_date  remaining_lease  \\\n",
              "0            31.0        IMPROVED                 1977               86   \n",
              "1            31.0        IMPROVED                 1977               86   \n",
              "2            31.0        IMPROVED                 1977               86   \n",
              "3            31.0        IMPROVED                 1977               86   \n",
              "4            73.0  NEW GENERATION                 1976               85   \n",
              "\n",
              "   resale_price  sale_year  \n",
              "0        9000.0     1990.0  \n",
              "1        6000.0     1990.0  \n",
              "2        8000.0     1990.0  \n",
              "3        6000.0     1990.0  \n",
              "4       47200.0     1990.0  "
            ],
            "text/html": [
              "\n",
              "  <div id=\"df-252a063c-abc0-412a-b302-d96bf225e60a\">\n",
              "    <div class=\"colab-df-container\">\n",
              "      <div>\n",
              "<style scoped>\n",
              "    .dataframe tbody tr th:only-of-type {\n",
              "        vertical-align: middle;\n",
              "    }\n",
              "\n",
              "    .dataframe tbody tr th {\n",
              "        vertical-align: top;\n",
              "    }\n",
              "\n",
              "    .dataframe thead th {\n",
              "        text-align: right;\n",
              "    }\n",
              "</style>\n",
              "<table border=\"1\" class=\"dataframe\">\n",
              "  <thead>\n",
              "    <tr style=\"text-align: right;\">\n",
              "      <th></th>\n",
              "      <th>month</th>\n",
              "      <th>town</th>\n",
              "      <th>flat_type</th>\n",
              "      <th>block</th>\n",
              "      <th>street_name</th>\n",
              "      <th>storey_range</th>\n",
              "      <th>floor_area_sqm</th>\n",
              "      <th>flat_model</th>\n",
              "      <th>lease_commence_date</th>\n",
              "      <th>remaining_lease</th>\n",
              "      <th>resale_price</th>\n",
              "      <th>sale_year</th>\n",
              "    </tr>\n",
              "  </thead>\n",
              "  <tbody>\n",
              "    <tr>\n",
              "      <th>0</th>\n",
              "      <td>1990-01-01</td>\n",
              "      <td>ANG MO KIO</td>\n",
              "      <td>1 ROOM</td>\n",
              "      <td>309</td>\n",
              "      <td>ANG MO KIO AVE 1</td>\n",
              "      <td>10 TO 12</td>\n",
              "      <td>31.0</td>\n",
              "      <td>IMPROVED</td>\n",
              "      <td>1977</td>\n",
              "      <td>86</td>\n",
              "      <td>9000.0</td>\n",
              "      <td>1990.0</td>\n",
              "    </tr>\n",
              "    <tr>\n",
              "      <th>1</th>\n",
              "      <td>1990-01-01</td>\n",
              "      <td>ANG MO KIO</td>\n",
              "      <td>1 ROOM</td>\n",
              "      <td>309</td>\n",
              "      <td>ANG MO KIO AVE 1</td>\n",
              "      <td>04 TO 06</td>\n",
              "      <td>31.0</td>\n",
              "      <td>IMPROVED</td>\n",
              "      <td>1977</td>\n",
              "      <td>86</td>\n",
              "      <td>6000.0</td>\n",
              "      <td>1990.0</td>\n",
              "    </tr>\n",
              "    <tr>\n",
              "      <th>2</th>\n",
              "      <td>1990-01-01</td>\n",
              "      <td>ANG MO KIO</td>\n",
              "      <td>1 ROOM</td>\n",
              "      <td>309</td>\n",
              "      <td>ANG MO KIO AVE 1</td>\n",
              "      <td>10 TO 12</td>\n",
              "      <td>31.0</td>\n",
              "      <td>IMPROVED</td>\n",
              "      <td>1977</td>\n",
              "      <td>86</td>\n",
              "      <td>8000.0</td>\n",
              "      <td>1990.0</td>\n",
              "    </tr>\n",
              "    <tr>\n",
              "      <th>3</th>\n",
              "      <td>1990-01-01</td>\n",
              "      <td>ANG MO KIO</td>\n",
              "      <td>1 ROOM</td>\n",
              "      <td>309</td>\n",
              "      <td>ANG MO KIO AVE 1</td>\n",
              "      <td>07 TO 09</td>\n",
              "      <td>31.0</td>\n",
              "      <td>IMPROVED</td>\n",
              "      <td>1977</td>\n",
              "      <td>86</td>\n",
              "      <td>6000.0</td>\n",
              "      <td>1990.0</td>\n",
              "    </tr>\n",
              "    <tr>\n",
              "      <th>4</th>\n",
              "      <td>1990-01-01</td>\n",
              "      <td>ANG MO KIO</td>\n",
              "      <td>3 ROOM</td>\n",
              "      <td>216</td>\n",
              "      <td>ANG MO KIO AVE 1</td>\n",
              "      <td>04 TO 06</td>\n",
              "      <td>73.0</td>\n",
              "      <td>NEW GENERATION</td>\n",
              "      <td>1976</td>\n",
              "      <td>85</td>\n",
              "      <td>47200.0</td>\n",
              "      <td>1990.0</td>\n",
              "    </tr>\n",
              "  </tbody>\n",
              "</table>\n",
              "</div>\n",
              "      <button class=\"colab-df-convert\" onclick=\"convertToInteractive('df-252a063c-abc0-412a-b302-d96bf225e60a')\"\n",
              "              title=\"Convert this dataframe to an interactive table.\"\n",
              "              style=\"display:none;\">\n",
              "        \n",
              "  <svg xmlns=\"http://www.w3.org/2000/svg\" height=\"24px\"viewBox=\"0 0 24 24\"\n",
              "       width=\"24px\">\n",
              "    <path d=\"M0 0h24v24H0V0z\" fill=\"none\"/>\n",
              "    <path d=\"M18.56 5.44l.94 2.06.94-2.06 2.06-.94-2.06-.94-.94-2.06-.94 2.06-2.06.94zm-11 1L8.5 8.5l.94-2.06 2.06-.94-2.06-.94L8.5 2.5l-.94 2.06-2.06.94zm10 10l.94 2.06.94-2.06 2.06-.94-2.06-.94-.94-2.06-.94 2.06-2.06.94z\"/><path d=\"M17.41 7.96l-1.37-1.37c-.4-.4-.92-.59-1.43-.59-.52 0-1.04.2-1.43.59L10.3 9.45l-7.72 7.72c-.78.78-.78 2.05 0 2.83L4 21.41c.39.39.9.59 1.41.59.51 0 1.02-.2 1.41-.59l7.78-7.78 2.81-2.81c.8-.78.8-2.07 0-2.86zM5.41 20L4 18.59l7.72-7.72 1.47 1.35L5.41 20z\"/>\n",
              "  </svg>\n",
              "      </button>\n",
              "      \n",
              "  <style>\n",
              "    .colab-df-container {\n",
              "      display:flex;\n",
              "      flex-wrap:wrap;\n",
              "      gap: 12px;\n",
              "    }\n",
              "\n",
              "    .colab-df-convert {\n",
              "      background-color: #E8F0FE;\n",
              "      border: none;\n",
              "      border-radius: 50%;\n",
              "      cursor: pointer;\n",
              "      display: none;\n",
              "      fill: #1967D2;\n",
              "      height: 32px;\n",
              "      padding: 0 0 0 0;\n",
              "      width: 32px;\n",
              "    }\n",
              "\n",
              "    .colab-df-convert:hover {\n",
              "      background-color: #E2EBFA;\n",
              "      box-shadow: 0px 1px 2px rgba(60, 64, 67, 0.3), 0px 1px 3px 1px rgba(60, 64, 67, 0.15);\n",
              "      fill: #174EA6;\n",
              "    }\n",
              "\n",
              "    [theme=dark] .colab-df-convert {\n",
              "      background-color: #3B4455;\n",
              "      fill: #D2E3FC;\n",
              "    }\n",
              "\n",
              "    [theme=dark] .colab-df-convert:hover {\n",
              "      background-color: #434B5C;\n",
              "      box-shadow: 0px 1px 3px 1px rgba(0, 0, 0, 0.15);\n",
              "      filter: drop-shadow(0px 1px 2px rgba(0, 0, 0, 0.3));\n",
              "      fill: #FFFFFF;\n",
              "    }\n",
              "  </style>\n",
              "\n",
              "      <script>\n",
              "        const buttonEl =\n",
              "          document.querySelector('#df-252a063c-abc0-412a-b302-d96bf225e60a button.colab-df-convert');\n",
              "        buttonEl.style.display =\n",
              "          google.colab.kernel.accessAllowed ? 'block' : 'none';\n",
              "\n",
              "        async function convertToInteractive(key) {\n",
              "          const element = document.querySelector('#df-252a063c-abc0-412a-b302-d96bf225e60a');\n",
              "          const dataTable =\n",
              "            await google.colab.kernel.invokeFunction('convertToInteractive',\n",
              "                                                     [key], {});\n",
              "          if (!dataTable) return;\n",
              "\n",
              "          const docLinkHtml = 'Like what you see? Visit the ' +\n",
              "            '<a target=\"_blank\" href=https://colab.research.google.com/notebooks/data_table.ipynb>data table notebook</a>'\n",
              "            + ' to learn more about interactive tables.';\n",
              "          element.innerHTML = '';\n",
              "          dataTable['output_type'] = 'display_data';\n",
              "          await google.colab.output.renderOutput(dataTable, element);\n",
              "          const docLink = document.createElement('div');\n",
              "          docLink.innerHTML = docLinkHtml;\n",
              "          element.appendChild(docLink);\n",
              "        }\n",
              "      </script>\n",
              "    </div>\n",
              "  </div>\n",
              "  "
            ]
          },
          "metadata": {},
          "execution_count": 17
        }
      ],
      "source": [
        "#Merging Datasets\n",
        "total_prices = pd.concat([price1999, price2012, price2014], sort=False)\n",
        "total_prices = pd.concat([total_prices, price2016, price2017], axis=0, ignore_index=True, sort=False)\n",
        "\n",
        "#Converting 'month' column into machine datetime\n",
        "total_prices['month'] = pd.to_datetime(total_prices['month']) # to datetime\n",
        "total_prices.info()\n",
        "total_prices.head(5)"
      ]
    },
    {
      "cell_type": "code",
      "source": [
        "#Rounding every tx sale date to the 1st of the month\n",
        "total_prices[\"month\"] = total_prices[\"month\"].astype(\"datetime64[M]\")"
      ],
      "metadata": {
        "id": "ViX8o1NqQ84A"
      },
      "execution_count": null,
      "outputs": []
    },
    {
      "cell_type": "code",
      "source": [
        "#Dropping 'sale_year' column\n",
        "total_prices.drop('sale_year', inplace=True, axis=1)\n",
        "total_prices.info()"
      ],
      "metadata": {
        "id": "ZU3AHCHtvr-4",
        "colab": {
          "base_uri": "https://localhost:8080/"
        },
        "outputId": "559ea46e-6e52-4c1b-a11b-33a3557c7c3e"
      },
      "execution_count": null,
      "outputs": [
        {
          "output_type": "stream",
          "name": "stdout",
          "text": [
            "<class 'pandas.core.frame.DataFrame'>\n",
            "RangeIndex: 887082 entries, 0 to 887081\n",
            "Data columns (total 11 columns):\n",
            " #   Column               Non-Null Count   Dtype         \n",
            "---  ------               --------------   -----         \n",
            " 0   month                887082 non-null  datetime64[ns]\n",
            " 1   town                 887082 non-null  object        \n",
            " 2   flat_type            887082 non-null  object        \n",
            " 3   block                887082 non-null  object        \n",
            " 4   street_name          887082 non-null  object        \n",
            " 5   storey_range         887082 non-null  object        \n",
            " 6   floor_area_sqm       887082 non-null  float64       \n",
            " 7   flat_model           887082 non-null  object        \n",
            " 8   lease_commence_date  887082 non-null  int64         \n",
            " 9   remaining_lease      887082 non-null  int64         \n",
            " 10  resale_price         887082 non-null  float64       \n",
            "dtypes: datetime64[ns](1), float64(2), int64(2), object(6)\n",
            "memory usage: 74.4+ MB\n"
          ]
        }
      ]
    },
    {
      "cell_type": "code",
      "source": [
        "total_prices.isnull().sum()"
      ],
      "metadata": {
        "id": "cgFRkUKG3hWN",
        "colab": {
          "base_uri": "https://localhost:8080/"
        },
        "outputId": "f0b458c5-7345-455c-a82a-43973176713b"
      },
      "execution_count": null,
      "outputs": [
        {
          "output_type": "execute_result",
          "data": {
            "text/plain": [
              "month                  0\n",
              "town                   0\n",
              "flat_type              0\n",
              "block                  0\n",
              "street_name            0\n",
              "storey_range           0\n",
              "floor_area_sqm         0\n",
              "flat_model             0\n",
              "lease_commence_date    0\n",
              "remaining_lease        0\n",
              "resale_price           0\n",
              "dtype: int64"
            ]
          },
          "metadata": {},
          "execution_count": 20
        }
      ]
    },
    {
      "cell_type": "code",
      "source": [
        "#Dropping 'block' column\n",
        "total_prices.drop('block', inplace=True, axis=1)\n",
        "total_prices.info()"
      ],
      "metadata": {
        "id": "VHKxDEOowX0P",
        "colab": {
          "base_uri": "https://localhost:8080/"
        },
        "outputId": "4174e482-6aa4-4864-afdb-c0eab5f6f4c7"
      },
      "execution_count": null,
      "outputs": [
        {
          "output_type": "stream",
          "name": "stdout",
          "text": [
            "<class 'pandas.core.frame.DataFrame'>\n",
            "RangeIndex: 887082 entries, 0 to 887081\n",
            "Data columns (total 10 columns):\n",
            " #   Column               Non-Null Count   Dtype         \n",
            "---  ------               --------------   -----         \n",
            " 0   month                887082 non-null  datetime64[ns]\n",
            " 1   town                 887082 non-null  object        \n",
            " 2   flat_type            887082 non-null  object        \n",
            " 3   street_name          887082 non-null  object        \n",
            " 4   storey_range         887082 non-null  object        \n",
            " 5   floor_area_sqm       887082 non-null  float64       \n",
            " 6   flat_model           887082 non-null  object        \n",
            " 7   lease_commence_date  887082 non-null  int64         \n",
            " 8   remaining_lease      887082 non-null  int64         \n",
            " 9   resale_price         887082 non-null  float64       \n",
            "dtypes: datetime64[ns](1), float64(2), int64(2), object(5)\n",
            "memory usage: 67.7+ MB\n"
          ]
        }
      ]
    },
    {
      "cell_type": "code",
      "execution_count": null,
      "metadata": {
        "id": "axG-wf9k4dZ9",
        "colab": {
          "base_uri": "https://localhost:8080/"
        },
        "outputId": "0e868e42-4009-4c07-f0a2-f4c3c31349e3"
      },
      "outputs": [
        {
          "output_type": "execute_result",
          "data": {
            "text/plain": [
              "array([1990, 1991, 1992, 1993, 1994, 1995, 1996, 1997, 1998, 1999, 2000,\n",
              "       2001, 2002, 2003, 2004, 2005, 2006, 2007, 2008, 2009, 2010, 2011,\n",
              "       2012, 2013, 2014, 2015, 2016, 2017, 2018, 2019, 2020, 2021, 2022,\n",
              "       2023])"
            ]
          },
          "metadata": {},
          "execution_count": 22
        }
      ],
      "source": [
        "#Accounting for all years entry\n",
        "total_prices['month'].dt.year.unique()"
      ]
    },
    {
      "cell_type": "code",
      "source": [
        "# Clean flat type\n",
        "total_prices['flat_type'] = total_prices['flat_type'].str.replace('MULTI-GENERATION', 'MULTI GENERATION')\n",
        "total_prices['flat_type'].unique()"
      ],
      "metadata": {
        "id": "mtxb_-vZ7gYd",
        "colab": {
          "base_uri": "https://localhost:8080/"
        },
        "outputId": "13a97be8-d58e-4be8-e6b8-9f288e8a91b7"
      },
      "execution_count": null,
      "outputs": [
        {
          "output_type": "execute_result",
          "data": {
            "text/plain": [
              "array(['1 ROOM', '3 ROOM', '4 ROOM', '5 ROOM', '2 ROOM', 'EXECUTIVE',\n",
              "       'MULTI GENERATION'], dtype=object)"
            ]
          },
          "metadata": {},
          "execution_count": 23
        }
      ]
    },
    {
      "cell_type": "code",
      "source": [
        "# Rename flat model duplicates\n",
        "replace_values = {'NEW GENERATION':'New Generation', 'SIMPLIFIED':'Simplified', 'STANDARD':'Standard', 'MODEL A-MAISONETTE':'Maisonette', 'MULTI GENERATION':'Multi Generation', 'IMPROVED-MAISONETTE':'Executive Maisonette', 'Improved-Maisonette':'Executive Maisonette', 'Premium Maisonette':'Executive Maisonette', '2-ROOM':'2-room', 'MODEL A':'Model A', 'MAISONETTE':'Maisonette', 'Model A-Maisonette':'Maisonette', 'IMPROVED':'Improved', 'TERRACE':'Terrace', 'PREMIUM APARTMENT':'Premium Apartment', 'Premium Apartment Loft':'Premium Apartment', 'APARTMENT':'Apartment', 'Type S1':'Type S1S2', 'Type S2':'Type S1S2'}\n",
        "\n",
        "total_prices = total_prices.replace({'flat_model': replace_values})\n",
        "\n",
        "total_prices['flat_model'].value_counts()"
      ],
      "metadata": {
        "id": "VRf2iGu77lUR",
        "colab": {
          "base_uri": "https://localhost:8080/"
        },
        "outputId": "1c5f76f3-bb95-4271-b398-5824a3a40523"
      },
      "execution_count": null,
      "outputs": [
        {
          "output_type": "execute_result",
          "data": {
            "text/plain": [
              "Model A                 249495\n",
              "Improved                231754\n",
              "New Generation          184489\n",
              "Simplified               56236\n",
              "Premium Apartment        43220\n",
              "Standard                 41656\n",
              "Apartment                33702\n",
              "Maisonette               30579\n",
              "Model A2                  9738\n",
              "DBSS                      2915\n",
              "Adjoined flat             1194\n",
              "Terrace                    682\n",
              "Type S1S2                  597\n",
              "Multi Generation           536\n",
              "Executive Maisonette       206\n",
              "2-room                      78\n",
              "3Gen                         5\n",
              "Name: flat_model, dtype: int64"
            ]
          },
          "metadata": {},
          "execution_count": 24
        }
      ]
    },
    {
      "cell_type": "code",
      "source": [
        "#Checking storey_range entries\n",
        "total_prices['storey_range'].unique()"
      ],
      "metadata": {
        "id": "ZNpqPriI7m7m",
        "colab": {
          "base_uri": "https://localhost:8080/"
        },
        "outputId": "e325e7c7-0cf8-4ae4-95cc-c4420afc62ca"
      },
      "execution_count": null,
      "outputs": [
        {
          "output_type": "execute_result",
          "data": {
            "text/plain": [
              "array(['10 TO 12', '04 TO 06', '07 TO 09', '01 TO 03', '13 TO 15',\n",
              "       '19 TO 21', '16 TO 18', '25 TO 27', '22 TO 24', '28 TO 30',\n",
              "       '31 TO 33', '40 TO 42', '37 TO 39', '34 TO 36', '06 TO 10',\n",
              "       '01 TO 05', '11 TO 15', '16 TO 20', '21 TO 25', '26 TO 30',\n",
              "       '36 TO 40', '31 TO 35', '46 TO 48', '43 TO 45', '49 TO 51'],\n",
              "      dtype=object)"
            ]
          },
          "metadata": {},
          "execution_count": 25
        }
      ]
    },
    {
      "cell_type": "code",
      "source": [
        "#Checking town entries\n",
        "total_prices['town'].unique()"
      ],
      "metadata": {
        "id": "LyfG5s_j7xsF",
        "colab": {
          "base_uri": "https://localhost:8080/"
        },
        "outputId": "862549d3-e7a9-401e-a783-51f66594280f"
      },
      "execution_count": null,
      "outputs": [
        {
          "output_type": "execute_result",
          "data": {
            "text/plain": [
              "array(['ANG MO KIO', 'BEDOK', 'BISHAN', 'BUKIT BATOK', 'BUKIT MERAH',\n",
              "       'BUKIT TIMAH', 'CENTRAL AREA', 'CHOA CHU KANG', 'CLEMENTI',\n",
              "       'GEYLANG', 'HOUGANG', 'JURONG EAST', 'JURONG WEST',\n",
              "       'KALLANG/WHAMPOA', 'MARINE PARADE', 'QUEENSTOWN', 'SENGKANG',\n",
              "       'SERANGOON', 'TAMPINES', 'TOA PAYOH', 'WOODLANDS', 'YISHUN',\n",
              "       'LIM CHU KANG', 'SEMBAWANG', 'BUKIT PANJANG', 'PASIR RIS',\n",
              "       'PUNGGOL'], dtype=object)"
            ]
          },
          "metadata": {},
          "execution_count": 26
        }
      ]
    },
    {
      "cell_type": "code",
      "source": [
        "# Compute Resale Price Adjusted for Inflation Using Consumer Price Index for Housing & Utilities\n",
        "# https://www.singstat.gov.sg/find-data/search-by-theme/economy/total_prices-and-price-indices/latest-data\n",
        "cpi['month'] = pd.to_datetime(cpi['month']) # to datetime\n",
        "\n",
        "total_prices = total_prices.merge(cpi, on='month', how='left')\n",
        "\n",
        "total_prices.info()"
      ],
      "metadata": {
        "colab": {
          "base_uri": "https://localhost:8080/"
        },
        "id": "3xi6MvPm8Eno",
        "outputId": "7688c7c0-adf5-4657-9daa-b9fdd2f8f430"
      },
      "execution_count": null,
      "outputs": [
        {
          "output_type": "stream",
          "name": "stdout",
          "text": [
            "<class 'pandas.core.frame.DataFrame'>\n",
            "Int64Index: 887082 entries, 0 to 887081\n",
            "Data columns (total 11 columns):\n",
            " #   Column               Non-Null Count   Dtype         \n",
            "---  ------               --------------   -----         \n",
            " 0   month                887082 non-null  datetime64[ns]\n",
            " 1   town                 887082 non-null  object        \n",
            " 2   flat_type            887082 non-null  object        \n",
            " 3   street_name          887082 non-null  object        \n",
            " 4   storey_range         887082 non-null  object        \n",
            " 5   floor_area_sqm       887082 non-null  float64       \n",
            " 6   flat_model           887082 non-null  object        \n",
            " 7   lease_commence_date  887082 non-null  int64         \n",
            " 8   remaining_lease      887082 non-null  int64         \n",
            " 9   resale_price         887082 non-null  float64       \n",
            " 10  cpi                  885089 non-null  float64       \n",
            "dtypes: datetime64[ns](1), float64(3), int64(2), object(5)\n",
            "memory usage: 81.2+ MB\n"
          ]
        }
      ]
    },
    {
      "cell_type": "code",
      "source": [
        "total_prices[\"real_price\"] = (total_prices[\"resale_price\"] / total_prices[\"cpi\"]) * 100\n",
        "total_prices.info()"
      ],
      "metadata": {
        "colab": {
          "base_uri": "https://localhost:8080/"
        },
        "id": "6pSbSb9bzIto",
        "outputId": "719c8ec0-569f-4332-8135-d9f586bd3b54"
      },
      "execution_count": null,
      "outputs": [
        {
          "output_type": "stream",
          "name": "stdout",
          "text": [
            "<class 'pandas.core.frame.DataFrame'>\n",
            "Int64Index: 887082 entries, 0 to 887081\n",
            "Data columns (total 12 columns):\n",
            " #   Column               Non-Null Count   Dtype         \n",
            "---  ------               --------------   -----         \n",
            " 0   month                887082 non-null  datetime64[ns]\n",
            " 1   town                 887082 non-null  object        \n",
            " 2   flat_type            887082 non-null  object        \n",
            " 3   street_name          887082 non-null  object        \n",
            " 4   storey_range         887082 non-null  object        \n",
            " 5   floor_area_sqm       887082 non-null  float64       \n",
            " 6   flat_model           887082 non-null  object        \n",
            " 7   lease_commence_date  887082 non-null  int64         \n",
            " 8   remaining_lease      887082 non-null  int64         \n",
            " 9   resale_price         887082 non-null  float64       \n",
            " 10  cpi                  885089 non-null  float64       \n",
            " 11  real_price           885089 non-null  float64       \n",
            "dtypes: datetime64[ns](1), float64(4), int64(2), object(5)\n",
            "memory usage: 88.0+ MB\n"
          ]
        }
      ]
    },
    {
      "cell_type": "code",
      "source": [
        "#Rounding off real_price value to 2 decimal places\n",
        "total_prices['real_price'] = total_prices['real_price'].round(2)\n",
        "total_prices.info()"
      ],
      "metadata": {
        "colab": {
          "base_uri": "https://localhost:8080/"
        },
        "id": "ua8Ib79Llm0A",
        "outputId": "820e219c-fafd-47c4-e293-5c65cdb575e0"
      },
      "execution_count": null,
      "outputs": [
        {
          "output_type": "stream",
          "name": "stdout",
          "text": [
            "<class 'pandas.core.frame.DataFrame'>\n",
            "Int64Index: 887082 entries, 0 to 887081\n",
            "Data columns (total 12 columns):\n",
            " #   Column               Non-Null Count   Dtype         \n",
            "---  ------               --------------   -----         \n",
            " 0   month                887082 non-null  datetime64[ns]\n",
            " 1   town                 887082 non-null  object        \n",
            " 2   flat_type            887082 non-null  object        \n",
            " 3   street_name          887082 non-null  object        \n",
            " 4   storey_range         887082 non-null  object        \n",
            " 5   floor_area_sqm       887082 non-null  float64       \n",
            " 6   flat_model           887082 non-null  object        \n",
            " 7   lease_commence_date  887082 non-null  int64         \n",
            " 8   remaining_lease      887082 non-null  int64         \n",
            " 9   resale_price         887082 non-null  float64       \n",
            " 10  cpi                  885089 non-null  float64       \n",
            " 11  real_price           885089 non-null  float64       \n",
            "dtypes: datetime64[ns](1), float64(4), int64(2), object(5)\n",
            "memory usage: 88.0+ MB\n"
          ]
        }
      ]
    },
    {
      "cell_type": "code",
      "source": [
        "#Exporting Final Dataset out for PowerBi\n",
        "total_prices.to_csv('total_prices.csv') # set file name\n",
        "total_prices.to_csv('/content/drive/MyDrive/EGD351(Project Folder)/total_prices.csv') # location of the exported file"
      ],
      "metadata": {
        "id": "krMFWRlzwTbB"
      },
      "execution_count": null,
      "outputs": []
    }
  ],
  "metadata": {
    "colab": {
      "provenance": [],
      "toc_visible": true,
      "include_colab_link": true
    },
    "kernelspec": {
      "display_name": "Python 3",
      "name": "python3"
    },
    "language_info": {
      "name": "python"
    }
  },
  "nbformat": 4,
  "nbformat_minor": 0
}